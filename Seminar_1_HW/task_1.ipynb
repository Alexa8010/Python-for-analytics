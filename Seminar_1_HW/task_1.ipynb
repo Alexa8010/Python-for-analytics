{
 "cells": [
  {
   "attachments": {},
   "cell_type": "markdown",
   "metadata": {},
   "source": [
    "1.1. Оформление ноутбука\n",
    "\n",
    "    Номер задачи - заголовок 2\n",
    "    Номер подзадачи - заголовок 3\n",
    "    Предоставленные наборы данных оформляйте, как код\n",
    "\n",
    "## Задание 1.2. \n",
    "На складе лежат разные фрукты в разном количестве. Написать функцию, которая на вход принимает любое количество названий фруктов и их количество, а возвращает общее количество фруктов на складе\n",
    "\n",
    "Примеры/Тесты:   "
   ]
  },
  {
   "cell_type": "code",
   "execution_count": null,
   "metadata": {},
   "outputs": [],
   "source": [
    "# <finction_name>(apple=2, banana=12, pear=9, peach=5) -> 28"
   ]
  },
  {
   "attachments": {},
   "cell_type": "markdown",
   "metadata": {},
   "source": [
    "Вариант 1"
   ]
  },
  {
   "cell_type": "code",
   "execution_count": 16,
   "metadata": {},
   "outputs": [
    {
     "name": "stdout",
     "output_type": "stream",
     "text": [
      "Фруктов 35 штук\n"
     ]
    }
   ],
   "source": [
    "\n",
    "def count_fruits(**kwargs):\n",
    "    sum = 0\n",
    "    for values in kwargs.values():\n",
    "        sum += values\n",
    "    return f'Фруктов {sum} штук'\n",
    "\n",
    "\n",
    "print(count_fruits(apples=10, oranges=5, bananas=20))"
   ]
  },
  {
   "attachments": {},
   "cell_type": "markdown",
   "metadata": {},
   "source": [
    "Вариант 2"
   ]
  },
  {
   "cell_type": "code",
   "execution_count": 15,
   "metadata": {},
   "outputs": [
    {
     "data": {
      "text/plain": [
       "'Фруктов 35 штук'"
      ]
     },
     "execution_count": 15,
     "metadata": {},
     "output_type": "execute_result"
    }
   ],
   "source": [
    "def fruits(**kwargs):\n",
    "    total_fruits = sum(kwargs.values())\n",
    "    return f'Фруктов {total_fruits} штук'\n",
    "fruits(apples=10, oranges=5, bananas=20)"
   ]
  }
 ],
 "metadata": {
  "kernelspec": {
   "display_name": "Python 3",
   "language": "python",
   "name": "python3"
  },
  "language_info": {
   "codemirror_mode": {
    "name": "ipython",
    "version": 3
   },
   "file_extension": ".py",
   "mimetype": "text/x-python",
   "name": "python",
   "nbconvert_exporter": "python",
   "pygments_lexer": "ipython3",
   "version": "3.11.3"
  },
  "orig_nbformat": 4
 },
 "nbformat": 4,
 "nbformat_minor": 2
}
