{
 "cells": [
  {
   "attachments": {},
   "cell_type": "markdown",
   "metadata": {},
   "source": [
    "## Задание 1.3. \n",
    "Дан список с затратами на рекламу. Но в данных есть ошибки, некоторые затраты имеют отрицательную величину. Удалите такие значения из списка и посчитайте суммарные затраты. Используйте list comprehensions.\n",
    "\n",
    "Примеры/Тесты:"
   ]
  },
  {
   "cell_type": "code",
   "execution_count": null,
   "metadata": {},
   "outputs": [],
   "source": [
    "[-12, 100, 0, 125, -90, 0, 345, 655, -1, 0, 200] -> [100, 0, 125, 0, 345, 655, 0, 200]"
   ]
  },
  {
   "cell_type": "code",
   "execution_count": 8,
   "metadata": {},
   "outputs": [
    {
     "name": "stdout",
     "output_type": "stream",
     "text": [
      "[100, 0, 125, 0, 345, 655, 0, 200]\n"
     ]
    },
    {
     "data": {
      "text/plain": [
       "1425"
      ]
     },
     "execution_count": 8,
     "metadata": {},
     "output_type": "execute_result"
    }
   ],
   "source": [
    "list1 = [-12, 100, 0, 125, -90, 0, 345, 655, -1, 0, 200]\n",
    "list2 = [i for i in list1 if i >= 0]\n",
    "print(list2)\n",
    "sum(list2)"
   ]
  },
  {
   "attachments": {},
   "cell_type": "markdown",
   "metadata": {},
   "source": [
    "### (*) Усложнение. \n",
    "Удалите отрицательные значения из списка, а нулевые значения замените на None\n",
    "Примеры/Тесты:"
   ]
  },
  {
   "cell_type": "code",
   "execution_count": null,
   "metadata": {},
   "outputs": [],
   "source": [
    "[-12, 100, 0, 125, -90, 0, 345, 655, -1, 0, 200] -> [100, None, 125, None, 345, 655, None, 200]"
   ]
  },
  {
   "cell_type": "code",
   "execution_count": 23,
   "metadata": {},
   "outputs": [
    {
     "data": {
      "text/plain": [
       "[100, None, 125, None, 345, 655, None, 200]"
      ]
     },
     "execution_count": 23,
     "metadata": {},
     "output_type": "execute_result"
    }
   ],
   "source": [
    "list3 = [-12, 100, 0, 125, -90, 0, 345, 655, -1, 0, 200]\n",
    "list4 = [i for i in list3 if i >= 0]\n",
    "list5 = [ i if i > 0 else None for i in list4]\n",
    "list5"
   ]
  }
 ],
 "metadata": {
  "kernelspec": {
   "display_name": "Python 3",
   "language": "python",
   "name": "python3"
  },
  "language_info": {
   "codemirror_mode": {
    "name": "ipython",
    "version": 3
   },
   "file_extension": ".py",
   "mimetype": "text/x-python",
   "name": "python",
   "nbconvert_exporter": "python",
   "pygments_lexer": "ipython3",
   "version": "3.11.3"
  },
  "orig_nbformat": 4
 },
 "nbformat": 4,
 "nbformat_minor": 2
}
