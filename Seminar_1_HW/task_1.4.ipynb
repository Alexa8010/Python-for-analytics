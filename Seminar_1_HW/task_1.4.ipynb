{
 "cells": [
  {
   "attachments": {},
   "cell_type": "markdown",
   "metadata": {},
   "source": [
    "## Задание 1.4. \n",
    "Даны два списка: Дата покупки и Суммы покупок по датам\n",
    "Примечание:\n",
    "- Для извлечения месяца вы можете воспользоваться пакетом datetime или извлекать его как строку\n",
    "- Для работы \"синхронно\" с двумя последовательностями вы можете использовать индекс или функцию zip. Попробуйте оба варианта.\n",
    "- Используйте аннотирование типов при определении функции"
   ]
  },
  {
   "cell_type": "code",
   "execution_count": 4,
   "metadata": {},
   "outputs": [],
   "source": [
    "dates = ['2021-09-14', '2021-12-15', '2021-09-08', '2021-12-05', '2021-10-09', '2021-09-30', '2021-12-22', \n",
    "        '2021-11-29', '2021-12-24', '2021-11-26', '2021-10-27', '2021-12-18', '2021-11-09', '2021-11-23',\n",
    "        '2021-09-27', '2021-10-02', '2021-12-27', '2021-09-20', '2021-12-13', '2021-11-01', '2021-11-09', \n",
    "        '2021-12-06', '2021-12-08', '2021-10-09', '2021-10-31', '2021-09-30', '2021-11-09', '2021-12-13', \n",
    "        '2021-10-26', '2021-12-09']    "
   ]
  },
  {
   "cell_type": "code",
   "execution_count": 5,
   "metadata": {},
   "outputs": [],
   "source": [
    "sums = [1270, 8413, 9028, 3703, 5739, 4095, 295, 4944, 5723, 3701, 4471, 651, 7037, 4274, 6275, 4988, 6930,\n",
    "        2971, 6592, 2004, 2822, 519, 3406, 2732, 5015, 2008, 316, 6333, 5700, 2887]"
   ]
  },
  {
   "attachments": {},
   "cell_type": "markdown",
   "metadata": {},
   "source": [
    "### 1.4.1. \n",
    "Найдите, какая выручка у компании в ноябре. Используйте list comprehensions.\n",
    "\n",
    "    Ответ: 25098    "
   ]
  },
  {
   "cell_type": "code",
   "execution_count": 17,
   "metadata": {},
   "outputs": [],
   "source": [
    "def november_income(data1:list, data2:list) -> list:\n",
    "    november_data = [data2[i] for i in range(len(data2)) if '-11-' in data1[i]]\n",
    "    return sum(november_data)"
   ]
  },
  {
   "cell_type": "code",
   "execution_count": 18,
   "metadata": {},
   "outputs": [
    {
     "name": "stdout",
     "output_type": "stream",
     "text": [
      "выручка в ноябре 25098 р.\n"
     ]
    }
   ],
   "source": [
    "result = november_income(dates,sums)\n",
    "print (f'выручка в ноябре {result} р.')"
   ]
  },
  {
   "attachments": {},
   "cell_type": "markdown",
   "metadata": {},
   "source": [
    "### 1.4.2. \n",
    "Найдите выручку компании в зависимости от месяца. Напишите функцию, которая на вход принимает списки с датами и с выручкой, а на выходе вернет словарь, где ключи - это месяцы, а значения - это выручка.\n",
    "    Примеры/Тесты:\n",
    "\n",
    "    <finction_name>(dates, prices) -> {'09': 25647, '12': 45452, '10': 28645, '11': 25098}"
   ]
  },
  {
   "cell_type": "code",
   "execution_count": 19,
   "metadata": {},
   "outputs": [],
   "source": [
    "import datetime"
   ]
  },
  {
   "cell_type": "code",
   "execution_count": 46,
   "metadata": {},
   "outputs": [],
   "source": [
    "def dates_to_months(dates: list[str]) -> list[str]: \n",
    "    months = []\n",
    "    for item in dates:\n",
    "        date_obj = datetime.datetime.strptime(item, '%Y-%m-%d')\n",
    "        month_obj = date_obj.strftime('%m')\n",
    "        months.append(month_obj)\n",
    "    return  months   \n"
   ]
  },
  {
   "cell_type": "code",
   "execution_count": 34,
   "metadata": {},
   "outputs": [
    {
     "data": {
      "text/plain": [
       "['09',\n",
       " '12',\n",
       " '09',\n",
       " '12',\n",
       " '10',\n",
       " '09',\n",
       " '12',\n",
       " '11',\n",
       " '12',\n",
       " '11',\n",
       " '10',\n",
       " '12',\n",
       " '11',\n",
       " '11',\n",
       " '09',\n",
       " '10',\n",
       " '12',\n",
       " '09',\n",
       " '12',\n",
       " '11',\n",
       " '11',\n",
       " '12',\n",
       " '12',\n",
       " '10',\n",
       " '10',\n",
       " '09',\n",
       " '11',\n",
       " '12',\n",
       " '10',\n",
       " '12']"
      ]
     },
     "execution_count": 34,
     "metadata": {},
     "output_type": "execute_result"
    }
   ],
   "source": [
    "months_list = dates_to_months(dates)\n",
    "months_list"
   ]
  },
  {
   "cell_type": "code",
   "execution_count": 47,
   "metadata": {},
   "outputs": [],
   "source": [
    "def dict_get_sum(data1: list[str], data2: list[int]) -> dict[str:int]:\n",
    "    res_dict = dict()\n",
    "    for i in range(len(data1)):\n",
    "        if data1[i] in res_dict.keys():\n",
    "            res_dict[data1[i]] += data2[i] \n",
    "        else:\n",
    "            res_dict[data1[i]] = data2[i]\n",
    "    return res_dict        \n",
    "                "
   ]
  },
  {
   "cell_type": "code",
   "execution_count": 44,
   "metadata": {},
   "outputs": [
    {
     "data": {
      "text/plain": [
       "{'09': 25647, '12': 45452, '10': 28645, '11': 25098}"
      ]
     },
     "execution_count": 44,
     "metadata": {},
     "output_type": "execute_result"
    }
   ],
   "source": [
    "dict_get_sum(months_list, sums)"
   ]
  },
  {
   "attachments": {},
   "cell_type": "markdown",
   "metadata": {},
   "source": [
    "Вариант с функцией zip"
   ]
  },
  {
   "cell_type": "code",
   "execution_count": 50,
   "metadata": {},
   "outputs": [
    {
     "name": "stdout",
     "output_type": "stream",
     "text": [
      "{'09': 25647, '12': 45452, '10': 28645, '11': 25098}\n"
     ]
    }
   ],
   "source": [
    "def dict_get_sum_1(keys:list, values:list) -> dict:\n",
    "    res_dict = dict()\n",
    "    for k,v in zip(keys, values):\n",
    "        if k not in res_dict:\n",
    "            res_dict[k] = v\n",
    "        else:\n",
    "            res_dict[k] += v    \n",
    "    return res_dict"
   ]
  },
  {
   "cell_type": "code",
   "execution_count": 51,
   "metadata": {},
   "outputs": [
    {
     "data": {
      "text/plain": [
       "{'09': 25647, '12': 45452, '10': 28645, '11': 25098}"
      ]
     },
     "execution_count": 51,
     "metadata": {},
     "output_type": "execute_result"
    }
   ],
   "source": [
    "(dict_get_sum_1(months_list, sums))"
   ]
  }
 ],
 "metadata": {
  "language_info": {
   "name": "python"
  },
  "orig_nbformat": 4
 },
 "nbformat": 4,
 "nbformat_minor": 2
}
